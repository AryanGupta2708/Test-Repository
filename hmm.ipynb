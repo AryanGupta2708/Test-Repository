{
 "cells": [
  {
   "cell_type": "code",
   "execution_count": 1,
   "metadata": {},
   "outputs": [
    {
     "name": "stdout",
     "output_type": "stream",
     "text": [
      "X | Y\n",
      "--|--\n",
      "e | d\n",
      "d | e\n",
      "c | b\n",
      "b | c\n",
      "X | Y\n",
      "--|--\n",
      "f | e\n",
      "f | d\n",
      "d | f\n",
      "e | f\n",
      "X | Y\n",
      "--|--\n",
      "f | a\n",
      "e | a\n",
      "d | a\n",
      "X | Y\n",
      "--|--\n",
      "b | a\n",
      "c | a\n",
      "d | b\n",
      "e | b\n",
      "f | c\n"
     ]
    }
   ],
   "source": [
    "from pyDatalog import pyDatalog as py\n",
    "py.create_terms(\"brother,father,cousin,grandson,descendent,X,Y,Z,W,a,b,c,d,e,f\")\n",
    "+father('a','b')\n",
    "+father('a','c')\n",
    "+father('b','d')\n",
    "+father('b','e')\n",
    "+father('c','f')\n",
    "brother(X,Y) <= (father(Z,X)) & (father(Z,Y)) & ~(X==Y)\n",
    "cousin(X,Y) <= (father(Z,X)) & (father(W,Y)) & (brother(Z,W))\n",
    "grandson(X,Y)<= (father(Y,Z)) & (father(Z,X))\n",
    "descendent(X,Y) <= (father(Y,X))\n",
    "descendent(X,Y) <= (father(Z,X)) & (descendent(Z,X))\n",
    "print(brother(X,Y))\n",
    "print(cousin(X,Y))\n",
    "print(grandson(X,Y))\n",
    "print(descendent(X,Y))"
   ]
  },
  {
   "cell_type": "code",
   "execution_count": null,
   "metadata": {},
   "outputs": [],
   "source": []
  }
 ],
 "metadata": {
  "kernelspec": {
   "display_name": "Python 3.9.7 ('base')",
   "language": "python",
   "name": "python3"
  },
  "language_info": {
   "codemirror_mode": {
    "name": "ipython",
    "version": 3
   },
   "file_extension": ".py",
   "mimetype": "text/x-python",
   "name": "python",
   "nbconvert_exporter": "python",
   "pygments_lexer": "ipython3",
   "version": "3.9.7"
  },
  "orig_nbformat": 4,
  "vscode": {
   "interpreter": {
    "hash": "429c4da532d5a49305ad374da5bd9411413fc9c5f93bdb5e51c34bc796003ebd"
   }
  }
 },
 "nbformat": 4,
 "nbformat_minor": 2
}
